{
 "cells": [
  {
   "cell_type": "markdown",
   "metadata": {},
   "source": [
    "# Importamos las librerias y descargamos el archivo"
   ]
  },
  {
   "cell_type": "code",
   "execution_count": 47,
   "metadata": {},
   "outputs": [
    {
     "name": "stderr",
     "output_type": "stream",
     "text": [
      "C:\\Users\\Usuario\\AppData\\Local\\Packages\\PythonSoftwareFoundation.Python.3.10_qbz5n2kfra8p0\\LocalCache\\local-packages\\Python310\\site-packages\\tqdm\\auto.py:21: TqdmWarning: IProgress not found. Please update jupyter and ipywidgets. See https://ipywidgets.readthedocs.io/en/stable/user_install.html\n",
      "  from .autonotebook import tqdm as notebook_tqdm\n"
     ]
    }
   ],
   "source": [
    "import pandas as pd\n",
    "import matplotlib.pyplot as plt\n",
    "import seaborn as sns\n",
    "import numpy as np\n",
    "import time\n",
    "from mpl_toolkits.mplot3d import Axes3D\n",
    "\n",
    "from sklearn.preprocessing import StandardScaler\n",
    "from sklearn.manifold import TSNE, Isomap\n",
    "from sklearn.decomposition import PCA\n",
    "import umap"
   ]
  },
  {
   "cell_type": "code",
   "execution_count": 18,
   "metadata": {},
   "outputs": [
    {
     "name": "stdout",
     "output_type": "stream",
     "text": [
      "    N   P   K  temperature   humidity        ph    rainfall label\n",
      "0  90  42  43    20.879744  82.002744  6.502985  202.935536  rice\n",
      "1  85  58  41    21.770462  80.319644  7.038096  226.655537  rice\n",
      "2  60  55  44    23.004459  82.320763  7.840207  263.964248  rice\n",
      "3  74  35  40    26.491096  80.158363  6.980401  242.864034  rice\n",
      "4  78  42  42    20.130175  81.604873  7.628473  262.717340  rice\n"
     ]
    }
   ],
   "source": [
    "# Generación de dataframe a partir del CSV\n",
    "df = pd.read_csv('Crop_recommendation.csv')\n",
    "\n",
    "# Visualización de las primeras 5 filas para conocer la estructura de los datos\n",
    "print(df.head())"
   ]
  },
  {
   "cell_type": "markdown",
   "metadata": {},
   "source": [
    "# Analisis de los atributos del conjunto de datos "
   ]
  },
  {
   "cell_type": "markdown",
   "metadata": {},
   "source": [
    "A continuacion analizamos distribuciones, valores, outliers, tipos de datos, etc. y elegimos el método de estandarización que consideramos mas adecuado."
   ]
  },
  {
   "cell_type": "code",
   "execution_count": 19,
   "metadata": {},
   "outputs": [
    {
     "name": "stdout",
     "output_type": "stream",
     "text": [
      "<class 'pandas.core.frame.DataFrame'>\n",
      "RangeIndex: 2200 entries, 0 to 2199\n",
      "Data columns (total 8 columns):\n",
      " #   Column       Non-Null Count  Dtype  \n",
      "---  ------       --------------  -----  \n",
      " 0   N            2200 non-null   int64  \n",
      " 1   P            2200 non-null   int64  \n",
      " 2   K            2200 non-null   int64  \n",
      " 3   temperature  2200 non-null   float64\n",
      " 4   humidity     2200 non-null   float64\n",
      " 5   ph           2200 non-null   float64\n",
      " 6   rainfall     2200 non-null   float64\n",
      " 7   label        2200 non-null   object \n",
      "dtypes: float64(4), int64(3), object(1)\n",
      "memory usage: 137.6+ KB\n",
      "None\n"
     ]
    }
   ],
   "source": [
    "# Obtenemos información general sobre el DataFrame, incluyendo tipos de datos y conteo de valores no nulos\n",
    "print(df.info())"
   ]
  },
  {
   "cell_type": "markdown",
   "metadata": {},
   "source": [
    "Podemos observar que no que no tenemos datos nulos y que los datos pueden ser, enteros, flotantes y objetos. Analizamos un poco más el tipo de datos, unidad de medida y que representan en el contexto del dataset."
   ]
  },
  {
   "cell_type": "markdown",
   "metadata": {},
   "source": [
    "El dataset que estamos analizandoesta relacionada con la agricultura, incluye información sobre diferentes variables que pueden afectar al crecimiento de las plantas."
   ]
  },
  {
   "cell_type": "code",
   "execution_count": 20,
   "metadata": {},
   "outputs": [
    {
     "data": {
      "text/html": [
       "<div>\n",
       "<style scoped>\n",
       "    .dataframe tbody tr th:only-of-type {\n",
       "        vertical-align: middle;\n",
       "    }\n",
       "\n",
       "    .dataframe tbody tr th {\n",
       "        vertical-align: top;\n",
       "    }\n",
       "\n",
       "    .dataframe thead th {\n",
       "        text-align: right;\n",
       "    }\n",
       "</style>\n",
       "<table border=\"1\" class=\"dataframe\">\n",
       "  <thead>\n",
       "    <tr style=\"text-align: right;\">\n",
       "      <th></th>\n",
       "      <th>N</th>\n",
       "      <th>P</th>\n",
       "      <th>K</th>\n",
       "      <th>temperature</th>\n",
       "      <th>humidity</th>\n",
       "      <th>ph</th>\n",
       "      <th>rainfall</th>\n",
       "    </tr>\n",
       "  </thead>\n",
       "  <tbody>\n",
       "    <tr>\n",
       "      <th>count</th>\n",
       "      <td>2200.000000</td>\n",
       "      <td>2200.000000</td>\n",
       "      <td>2200.000000</td>\n",
       "      <td>2200.000000</td>\n",
       "      <td>2200.000000</td>\n",
       "      <td>2200.000000</td>\n",
       "      <td>2200.000000</td>\n",
       "    </tr>\n",
       "    <tr>\n",
       "      <th>mean</th>\n",
       "      <td>50.551818</td>\n",
       "      <td>53.362727</td>\n",
       "      <td>48.149091</td>\n",
       "      <td>25.616244</td>\n",
       "      <td>71.481779</td>\n",
       "      <td>6.469480</td>\n",
       "      <td>103.463655</td>\n",
       "    </tr>\n",
       "    <tr>\n",
       "      <th>std</th>\n",
       "      <td>36.917334</td>\n",
       "      <td>32.985883</td>\n",
       "      <td>50.647931</td>\n",
       "      <td>5.063749</td>\n",
       "      <td>22.263812</td>\n",
       "      <td>0.773938</td>\n",
       "      <td>54.958389</td>\n",
       "    </tr>\n",
       "    <tr>\n",
       "      <th>min</th>\n",
       "      <td>0.000000</td>\n",
       "      <td>5.000000</td>\n",
       "      <td>5.000000</td>\n",
       "      <td>8.825675</td>\n",
       "      <td>14.258040</td>\n",
       "      <td>3.504752</td>\n",
       "      <td>20.211267</td>\n",
       "    </tr>\n",
       "    <tr>\n",
       "      <th>25%</th>\n",
       "      <td>21.000000</td>\n",
       "      <td>28.000000</td>\n",
       "      <td>20.000000</td>\n",
       "      <td>22.769375</td>\n",
       "      <td>60.261953</td>\n",
       "      <td>5.971693</td>\n",
       "      <td>64.551686</td>\n",
       "    </tr>\n",
       "    <tr>\n",
       "      <th>50%</th>\n",
       "      <td>37.000000</td>\n",
       "      <td>51.000000</td>\n",
       "      <td>32.000000</td>\n",
       "      <td>25.598693</td>\n",
       "      <td>80.473146</td>\n",
       "      <td>6.425045</td>\n",
       "      <td>94.867624</td>\n",
       "    </tr>\n",
       "    <tr>\n",
       "      <th>75%</th>\n",
       "      <td>84.250000</td>\n",
       "      <td>68.000000</td>\n",
       "      <td>49.000000</td>\n",
       "      <td>28.561654</td>\n",
       "      <td>89.948771</td>\n",
       "      <td>6.923643</td>\n",
       "      <td>124.267508</td>\n",
       "    </tr>\n",
       "    <tr>\n",
       "      <th>max</th>\n",
       "      <td>140.000000</td>\n",
       "      <td>145.000000</td>\n",
       "      <td>205.000000</td>\n",
       "      <td>43.675493</td>\n",
       "      <td>99.981876</td>\n",
       "      <td>9.935091</td>\n",
       "      <td>298.560117</td>\n",
       "    </tr>\n",
       "  </tbody>\n",
       "</table>\n",
       "</div>"
      ],
      "text/plain": [
       "                 N            P            K  temperature     humidity  \\\n",
       "count  2200.000000  2200.000000  2200.000000  2200.000000  2200.000000   \n",
       "mean     50.551818    53.362727    48.149091    25.616244    71.481779   \n",
       "std      36.917334    32.985883    50.647931     5.063749    22.263812   \n",
       "min       0.000000     5.000000     5.000000     8.825675    14.258040   \n",
       "25%      21.000000    28.000000    20.000000    22.769375    60.261953   \n",
       "50%      37.000000    51.000000    32.000000    25.598693    80.473146   \n",
       "75%      84.250000    68.000000    49.000000    28.561654    89.948771   \n",
       "max     140.000000   145.000000   205.000000    43.675493    99.981876   \n",
       "\n",
       "                ph     rainfall  \n",
       "count  2200.000000  2200.000000  \n",
       "mean      6.469480   103.463655  \n",
       "std       0.773938    54.958389  \n",
       "min       3.504752    20.211267  \n",
       "25%       5.971693    64.551686  \n",
       "50%       6.425045    94.867624  \n",
       "75%       6.923643   124.267508  \n",
       "max       9.935091   298.560117  "
      ]
     },
     "execution_count": 20,
     "metadata": {},
     "output_type": "execute_result"
    }
   ],
   "source": [
    "df.describe()\n"
   ]
  },
  {
   "cell_type": "markdown",
   "metadata": {},
   "source": [
    "- N (Nitrogeno): Esta columna representa la cantidad de nitrógeno en el suelo, media en %.\n",
    "- P (Fósforo): Esta columna indica la cantidad de fósforo en el suelo, también medida en %.\n",
    "- K (Potasio): Aquí se muestra la cantidad de potasio en el suelo, medida en %.\n",
    "- Temperatura: Esta columna indica la temperatura ambiente en el entorno de cultivo de las plantas. Que parece estar medida en grados centígrados.\n",
    "- Humedad: Representa el nivel de humedad ambiental en el área de cultivo. Media en %.\n",
    "- pH: Indica el nivel de acidez o alcalinidad del suelo. \n",
    "- Lluvia (Rainfall): Esta columna muestra la cantidad de precipitación que recibe el área de cultivo. \n",
    "- Etiqueta (Label): Esta columna clasifica el tipo de cultivo o planta que se está cultivando en el área descrita por las otras variables. A continuación podemos ver todos los valores que asume esta variable."
   ]
  },
  {
   "cell_type": "code",
   "execution_count": 21,
   "metadata": {},
   "outputs": [
    {
     "name": "stdout",
     "output_type": "stream",
     "text": [
      "['rice' 'maize' 'chickpea' 'kidneybeans' 'pigeonpeas' 'mothbeans'\n",
      " 'mungbean' 'blackgram' 'lentil' 'pomegranate' 'banana' 'mango' 'grapes'\n",
      " 'watermelon' 'muskmelon' 'apple' 'orange' 'papaya' 'coconut' 'cotton'\n",
      " 'jute' 'coffee']\n",
      "Cantidad de cultivos:  22\n"
     ]
    }
   ],
   "source": [
    "label = df['label'].unique()\n",
    "print(label)\n",
    "print(\"Cantidad de cultivos: \", len(list(label)))"
   ]
  },
  {
   "cell_type": "code",
   "execution_count": 30,
   "metadata": {},
   "outputs": [
    {
     "name": "stdout",
     "output_type": "stream",
     "text": [
      "Códigos para identificar a los cultivos: \n",
      "[20, 11, 3, 9, 18, 13, 14, 2, 10, 19, 1, 12, 7, 21, 15, 0, 16, 17, 4, 6, 8, 5]\n",
      "Cantidad de cultivos:  22\n",
      "Cultivo Código\n",
      "rice       20   \n",
      "maize      11   \n",
      "chickpea   3    \n",
      "kidneybeans 9    \n",
      "pigeonpeas 18   \n",
      "mothbeans  13   \n",
      "mungbean   14   \n",
      "blackgram  2    \n",
      "lentil     10   \n",
      "pomegranate 19   \n",
      "banana     1    \n",
      "mango      12   \n",
      "grapes     7    \n",
      "watermelon 21   \n",
      "muskmelon  15   \n",
      "apple      0    \n",
      "orange     16   \n",
      "papaya     17   \n",
      "coconut    4    \n",
      "cotton     6    \n",
      "jute       8    \n",
      "coffee     5    \n"
     ]
    }
   ],
   "source": [
    "# Vamos a codificar esta columna\n",
    "from sklearn.preprocessing import LabelEncoder\n",
    "le = LabelEncoder()\n",
    "df['label'] = le.fit_transform(df['label'])\n",
    "# Veamos el resultado\n",
    "labels_enc = df['label'].unique()\n",
    "print(\"Códigos para identificar a los cultivos: \")\n",
    "print('Cultivo', 'Código')\n",
    "for cu, co in zip(label, labels_enc):\n",
    "    print('{:<10} {:<5}'.format(cu, co))\n"
   ]
  },
  {
   "cell_type": "code",
   "execution_count": 32,
   "metadata": {},
   "outputs": [
    {
     "name": "stdout",
     "output_type": "stream",
     "text": [
      "                 N            P            K  temperature     humidity  \\\n",
      "count  2200.000000  2200.000000  2200.000000  2200.000000  2200.000000   \n",
      "mean     50.551818    53.362727    48.149091    25.616244    71.481779   \n",
      "std      36.917334    32.985883    50.647931     5.063749    22.263812   \n",
      "min       0.000000     5.000000     5.000000     8.825675    14.258040   \n",
      "25%      21.000000    28.000000    20.000000    22.769375    60.261953   \n",
      "50%      37.000000    51.000000    32.000000    25.598693    80.473146   \n",
      "75%      84.250000    68.000000    49.000000    28.561654    89.948771   \n",
      "max     140.000000   145.000000   205.000000    43.675493    99.981876   \n",
      "\n",
      "                ph     rainfall        label  \n",
      "count  2200.000000  2200.000000  2200.000000  \n",
      "mean      6.469480   103.463655    10.500000  \n",
      "std       0.773938    54.958389     6.345731  \n",
      "min       3.504752    20.211267     0.000000  \n",
      "25%       5.971693    64.551686     5.000000  \n",
      "50%       6.425045    94.867624    10.500000  \n",
      "75%       6.923643   124.267508    16.000000  \n",
      "max       9.935091   298.560117    21.000000  \n"
     ]
    }
   ],
   "source": [
    "# Resumen estadístico de los datos numéricos\n",
    "print(df.describe())"
   ]
  },
  {
   "cell_type": "code",
   "execution_count": 35,
   "metadata": {},
   "outputs": [
    {
     "data": {
      "image/png": "[encoded data removed]",
      "text/plain": [
       "<Figure size 1600x800 with 8 Axes>"
      ]
     },
     "metadata": {},
     "output_type": "display_data"
    }
   ],
   "source": [
    "# Realizamos un histograma de las variables numéricas\n",
    "variables_numericas = ['N', 'P', 'K', 'temperature', 'humidity', 'ph', 'rainfall']\n",
    "fig, axs = plt.subplots(2, 4, figsize=(16, 8))\n",
    "\n",
    "for i, variable in enumerate(variables_numericas):\n",
    "    fila = i // 4\n",
    "    columna = i % 4\n",
    "    axs[fila, columna].hist(df[variable], bins=20, color='skyblue', edgecolor='black')\n",
    "    axs[fila, columna].set_xlabel(variable)\n",
    "    axs[fila, columna].set_ylabel('Frecuencia')\n",
    "\n",
    "plt.tight_layout()\n",
    "\n",
    "plt.show()"
   ]
  },
  {
   "cell_type": "code",
   "execution_count": 44,
   "metadata": {},
   "outputs": [],
   "source": [
    "# Visualizar distribuciones de variables numéricas\n",
    "# sns.pairplot(df)\n",
    "# plt.show()"
   ]
  },
  {
   "cell_type": "markdown",
   "metadata": {},
   "source": [
    "## Eliminación de outliers"
   ]
  },
  {
   "cell_type": "code",
   "execution_count": 38,
   "metadata": {},
   "outputs": [
    {
     "name": "stderr",
     "output_type": "stream",
     "text": [
      "C:\\Users\\Usuario\\AppData\\Local\\Packages\\PythonSoftwareFoundation.Python.3.10_qbz5n2kfra8p0\\LocalCache\\local-packages\\Python310\\site-packages\\seaborn\\_oldcore.py:1498: FutureWarning: is_categorical_dtype is deprecated and will be removed in a future version. Use isinstance(dtype, CategoricalDtype) instead\n",
      "  if pd.api.types.is_categorical_dtype(vector):\n",
      "C:\\Users\\Usuario\\AppData\\Local\\Packages\\PythonSoftwareFoundation.Python.3.10_qbz5n2kfra8p0\\LocalCache\\local-packages\\Python310\\site-packages\\seaborn\\_oldcore.py:1498: FutureWarning: is_categorical_dtype is deprecated and will be removed in a future version. Use isinstance(dtype, CategoricalDtype) instead\n",
      "  if pd.api.types.is_categorical_dtype(vector):\n",
      "C:\\Users\\Usuario\\AppData\\Local\\Packages\\PythonSoftwareFoundation.Python.3.10_qbz5n2kfra8p0\\LocalCache\\local-packages\\Python310\\site-packages\\seaborn\\_oldcore.py:1498: FutureWarning: is_categorical_dtype is deprecated and will be removed in a future version. Use isinstance(dtype, CategoricalDtype) instead\n",
      "  if pd.api.types.is_categorical_dtype(vector):\n",
      "C:\\Users\\Usuario\\AppData\\Local\\Packages\\PythonSoftwareFoundation.Python.3.10_qbz5n2kfra8p0\\LocalCache\\local-packages\\Python310\\site-packages\\seaborn\\_oldcore.py:1498: FutureWarning: is_categorical_dtype is deprecated and will be removed in a future version. Use isinstance(dtype, CategoricalDtype) instead\n",
      "  if pd.api.types.is_categorical_dtype(vector):\n",
      "C:\\Users\\Usuario\\AppData\\Local\\Packages\\PythonSoftwareFoundation.Python.3.10_qbz5n2kfra8p0\\LocalCache\\local-packages\\Python310\\site-packages\\seaborn\\_oldcore.py:1498: FutureWarning: is_categorical_dtype is deprecated and will be removed in a future version. Use isinstance(dtype, CategoricalDtype) instead\n",
      "  if pd.api.types.is_categorical_dtype(vector):\n",
      "C:\\Users\\Usuario\\AppData\\Local\\Packages\\PythonSoftwareFoundation.Python.3.10_qbz5n2kfra8p0\\LocalCache\\local-packages\\Python310\\site-packages\\seaborn\\_oldcore.py:1498: FutureWarning: is_categorical_dtype is deprecated and will be removed in a future version. Use isinstance(dtype, CategoricalDtype) instead\n",
      "  if pd.api.types.is_categorical_dtype(vector):\n",
      "C:\\Users\\Usuario\\AppData\\Local\\Packages\\PythonSoftwareFoundation.Python.3.10_qbz5n2kfra8p0\\LocalCache\\local-packages\\Python310\\site-packages\\seaborn\\_oldcore.py:1498: FutureWarning: is_categorical_dtype is deprecated and will be removed in a future version. Use isinstance(dtype, CategoricalDtype) instead\n",
      "  if pd.api.types.is_categorical_dtype(vector):\n"
     ]
    },
    {
     "data": {
      "image/png": "[encoded data removed]",
      "text/plain": [
       "<Figure size 640x480 with 1 Axes>"
      ]
     },
     "metadata": {},
     "output_type": "display_data"
    }
   ],
   "source": [
    "# Identificar valores atípicos (outliers) en las variables numéricas\n",
    "sns.boxplot(data=df[['N', 'P', 'K', 'temperature', 'humidity', 'ph', 'rainfall']])\n",
    "plt.show()"
   ]
  },
  {
   "cell_type": "code",
   "execution_count": 40,
   "metadata": {},
   "outputs": [
    {
     "name": "stdout",
     "output_type": "stream",
     "text": [
      "Longitud del dataframe antes de filtrar: 1941\n",
      "Longitud del dataframe después de filtrar: 1854\n"
     ]
    },
    {
     "name": "stderr",
     "output_type": "stream",
     "text": [
      "C:\\Users\\Usuario\\AppData\\Local\\Packages\\PythonSoftwareFoundation.Python.3.10_qbz5n2kfra8p0\\LocalCache\\local-packages\\Python310\\site-packages\\seaborn\\_oldcore.py:1498: FutureWarning: is_categorical_dtype is deprecated and will be removed in a future version. Use isinstance(dtype, CategoricalDtype) instead\n",
      "  if pd.api.types.is_categorical_dtype(vector):\n",
      "C:\\Users\\Usuario\\AppData\\Local\\Packages\\PythonSoftwareFoundation.Python.3.10_qbz5n2kfra8p0\\LocalCache\\local-packages\\Python310\\site-packages\\seaborn\\_oldcore.py:1498: FutureWarning: is_categorical_dtype is deprecated and will be removed in a future version. Use isinstance(dtype, CategoricalDtype) instead\n",
      "  if pd.api.types.is_categorical_dtype(vector):\n",
      "C:\\Users\\Usuario\\AppData\\Local\\Packages\\PythonSoftwareFoundation.Python.3.10_qbz5n2kfra8p0\\LocalCache\\local-packages\\Python310\\site-packages\\seaborn\\_oldcore.py:1498: FutureWarning: is_categorical_dtype is deprecated and will be removed in a future version. Use isinstance(dtype, CategoricalDtype) instead\n",
      "  if pd.api.types.is_categorical_dtype(vector):\n",
      "C:\\Users\\Usuario\\AppData\\Local\\Packages\\PythonSoftwareFoundation.Python.3.10_qbz5n2kfra8p0\\LocalCache\\local-packages\\Python310\\site-packages\\seaborn\\_oldcore.py:1498: FutureWarning: is_categorical_dtype is deprecated and will be removed in a future version. Use isinstance(dtype, CategoricalDtype) instead\n",
      "  if pd.api.types.is_categorical_dtype(vector):\n",
      "C:\\Users\\Usuario\\AppData\\Local\\Packages\\PythonSoftwareFoundation.Python.3.10_qbz5n2kfra8p0\\LocalCache\\local-packages\\Python310\\site-packages\\seaborn\\_oldcore.py:1498: FutureWarning: is_categorical_dtype is deprecated and will be removed in a future version. Use isinstance(dtype, CategoricalDtype) instead\n",
      "  if pd.api.types.is_categorical_dtype(vector):\n",
      "C:\\Users\\Usuario\\AppData\\Local\\Packages\\PythonSoftwareFoundation.Python.3.10_qbz5n2kfra8p0\\LocalCache\\local-packages\\Python310\\site-packages\\seaborn\\_oldcore.py:1498: FutureWarning: is_categorical_dtype is deprecated and will be removed in a future version. Use isinstance(dtype, CategoricalDtype) instead\n",
      "  if pd.api.types.is_categorical_dtype(vector):\n",
      "C:\\Users\\Usuario\\AppData\\Local\\Packages\\PythonSoftwareFoundation.Python.3.10_qbz5n2kfra8p0\\LocalCache\\local-packages\\Python310\\site-packages\\seaborn\\_oldcore.py:1498: FutureWarning: is_categorical_dtype is deprecated and will be removed in a future version. Use isinstance(dtype, CategoricalDtype) instead\n",
      "  if pd.api.types.is_categorical_dtype(vector):\n"
     ]
    },
    {
     "data": {
      "image/png": "[encoded data removed]",
      "text/plain": [
       "<Figure size 640x480 with 1 Axes>"
      ]
     },
     "metadata": {},
     "output_type": "display_data"
    },
    {
     "name": "stdout",
     "output_type": "stream",
     "text": [
      "                 N            P            K  temperature     humidity  \\\n",
      "count  2200.000000  2200.000000  2200.000000  2200.000000  2200.000000   \n",
      "mean      0.361084     0.345448     0.215745     0.481798     0.667536   \n",
      "std       0.263695     0.235613     0.253240     0.145302     0.259716   \n",
      "min       0.000000     0.000000     0.000000     0.000000     0.000000   \n",
      "25%       0.150000     0.164286     0.075000     0.400108     0.536653   \n",
      "50%       0.264286     0.328571     0.135000     0.481294     0.772424   \n",
      "75%       0.601786     0.450000     0.220000     0.566315     0.882960   \n",
      "max       1.000000     1.000000     1.000000     1.000000     1.000000   \n",
      "\n",
      "                ph     rainfall  \n",
      "count  2200.000000  2200.000000  \n",
      "mean      0.461053     0.299094  \n",
      "std       0.120357     0.197444  \n",
      "min       0.000000     0.000000  \n",
      "25%       0.383641     0.159298  \n",
      "50%       0.454143     0.268211  \n",
      "75%       0.531681     0.373834  \n",
      "max       1.000000     1.000000  \n"
     ]
    }
   ],
   "source": [
    "# Eliminamos de outliers\n",
    "Q1 = df.quantile(0.25)\n",
    "Q3 = df.quantile(0.75)\n",
    "# Rango intercuartílico (IQR)\n",
    "IQR = Q3 - Q1\n",
    "# Definimos los límites superior e inferior para identificar outliers\n",
    "lower_bound = Q1 - 0.3 * IQR\n",
    "upper_bound = Q3 + 0.3 * IQR\n",
    "\n",
    "print(\"Longitud del dataframe antes de filtrar: \"+str(df.shape[0]))\n",
    "df = df[((df < lower_bound) | (df > upper_bound)).any(axis=1)]\n",
    "print(\"Longitud del dataframe después de filtrar: \"+str(df.shape[0]))\n",
    "\n",
    "\n",
    "# Chequeamos en el gráfico\n",
    "sns.boxplot(data=df[['N', 'P', 'K', 'temperature', 'humidity', 'ph', 'rainfall']])\n",
    "plt.show()\n",
    "\n",
    "# Vemos que los datos tienen mucha varianza, así que sacar muchos outliers significa quedarse\n",
    "# con muy pocos registros. Usamos un factor de 0.3 para quedarnos con una cantidad\n",
    "# significativa de registros."
   ]
  },
  {
   "cell_type": "code",
   "execution_count": 46,
   "metadata": {},
   "outputs": [
    {
     "name": "stdout",
     "output_type": "stream",
     "text": [
      "               N          P          K  temperature   humidity         ph  \\\n",
      "count  1854.0000  1854.0000  1854.0000    1854.0000  1854.0000  1854.0000   \n",
      "mean      0.3675     0.3537     0.2364       0.4795     0.6624     0.4592   \n",
      "std       0.2705     0.2507     0.2700       0.1550     0.2739     0.1280   \n",
      "min       0.0000     0.0000     0.0000       0.0000     0.0000     0.0000   \n",
      "25%       0.1500     0.1500     0.0800       0.3882     0.5096     0.3753   \n",
      "50%       0.2643     0.3357     0.1500       0.4787     0.7773     0.4488   \n",
      "75%       0.6214     0.4643     0.2300       0.5693     0.8866     0.5339   \n",
      "max       1.0000     1.0000     1.0000       1.0000     1.0000     1.0000   \n",
      "\n",
      "        rainfall  \n",
      "count  1854.0000  \n",
      "mean      0.3098  \n",
      "std       0.2072  \n",
      "min       0.0000  \n",
      "25%       0.1638  \n",
      "50%       0.2770  \n",
      "75%       0.4094  \n",
      "max       1.0000  \n",
      "               N          P          K  temperature   humidity         ph  \\\n",
      "count  1854.0000  1854.0000  1854.0000    1854.0000  1854.0000  1854.0000   \n",
      "mean      0.0000     0.0000    -0.0000      -0.0000    -0.0000    -0.0000   \n",
      "std       1.0003     1.0003     1.0003       1.0003     1.0003     1.0003   \n",
      "min      -1.3587    -1.4110    -0.8758      -3.0940    -2.4194    -3.5877   \n",
      "25%      -0.8042    -0.8126    -0.5795      -0.5889    -0.5581    -0.6557   \n",
      "50%      -0.3816    -0.0717    -0.3202      -0.0054     0.4199    -0.0811   \n",
      "75%       0.9388     0.4412    -0.0238       0.5795     0.8191     0.5837   \n",
      "max       2.3384     2.5783     2.8286       3.3587     1.2332     4.2249   \n",
      "\n",
      "        rainfall  \n",
      "count  1854.0000  \n",
      "mean      0.0000  \n",
      "std       1.0003  \n",
      "min      -1.4956  \n",
      "25%      -0.7045  \n",
      "50%      -0.1582  \n",
      "75%       0.4810  \n",
      "max       3.3324  \n"
     ]
    }
   ],
   "source": [
    "# Aplicamos Min-Max scaling para llevar las características a un rango común\n",
    "from sklearn.preprocessing import MinMaxScaler\n",
    "scaler = MinMaxScaler()\n",
    "scaled_data = scaler.fit_transform(df[['N', 'P', 'K', 'temperature', 'humidity', 'ph', 'rainfall']])\n",
    "data_scaled_minmax = pd.DataFrame(scaled_data, columns=['N', 'P', 'K', 'temperature', 'humidity', 'ph', 'rainfall'])\n",
    "print(data_scaled_minmax.describe().round(4))\n",
    "\n",
    "# También hacemos Z-score\n",
    "from sklearn.preprocessing import StandardScaler\n",
    "scaler = StandardScaler()\n",
    "scaled_data = scaler.fit_transform(df[['N', 'P', 'K', 'temperature', 'humidity', 'ph', 'rainfall']])\n",
    "data_scaled_z = pd.DataFrame(scaled_data, columns=['N', 'P', 'K', 'temperature', 'humidity', 'ph', 'rainfall'])\n",
    "print(data_scaled_z.describe().round(4))"
   ]
  },
  {
   "cell_type": "markdown",
   "metadata": {},
   "source": [
    "# PCA"
   ]
  },
  {
   "cell_type": "code",
   "execution_count": null,
   "metadata": {},
   "outputs": [],
   "source": [
    "dataWheat['category'] = dataWheat['category'].map(target_names)\n",
    "\n",
    "xWheat = dataWheat.drop('category', axis=1)\n",
    "yWheat = dataWheat['category']\n",
    "\n",
    "sns.countplot(\n",
    "    x='category', \n",
    "    data=df)\n",
    "plt.title('Wheat targets value count')\n",
    "plt.show()\n",
    "\n",
    "xWheatScaled = StandardScaler().fit_transform(xWheat)\n",
    "\n",
    "\"\"\" PCA \"\"\"\n",
    "\n",
    "pca = PCA(n_components=3)\n",
    " \n",
    "pcaFeatures = pca.fit_transform(xWheatScaled)\n",
    " \n",
    "print('Shape before PCA: ', xWheatScaled.shape)\n",
    "print('Shape after PCA: ', pcaFeatures.shape)\n",
    " \n",
    "pcaWheat = pd.DataFrame(\n",
    "    data=pcaFeatures, \n",
    "    columns=['PC1', 'PC2', 'PC3'])\n",
    "\n",
    "pcaWheat['category'] = yWheat.to_numpy()\n",
    " \n",
    "pcaWheat\n",
    "\t\n",
    "pca.explained_variance_\n",
    "\n",
    "pca.singular_values_\n",
    "\n",
    "# Bar plot of explained_variance\n",
    "plt.bar(\n",
    "    range(1,len(pca.explained_variance_)+1), pca.explained_variance_)\n",
    " \n",
    "plt.plot(\n",
    "    range(1,len(pca.explained_variance_ )+1),\n",
    "    np.cumsum(pca.explained_variance_),\n",
    "    c='red',\n",
    "    label='Cumulative Explained Variance')\n",
    " \n",
    "plt.legend(loc='upper left')\n",
    "plt.xlabel('Number of components')\n",
    "plt.ylabel('Explained variance (eignenvalues)')\n",
    "plt.title('Scree plot')\n",
    " \n",
    "plt.show()\n",
    "\n",
    "sns.set()\n",
    "sns.lmplot(\n",
    "    x='PC1', \n",
    "    y='PC2', \n",
    "    data=pcaWheat, \n",
    "    hue='category', \n",
    "    fit_reg=False, \n",
    "    legend=True\n",
    "    )\n",
    " \n",
    "plt.title('2D PCA Graph')\n",
    "plt.show()\n",
    "\n",
    "\"\"\" Isomap \"\"\"\n",
    "\n",
    "isomapWheat = Isomap(n_neighbors=6, n_components=2)\n",
    "isomapWheat.fit(xWheatScaled)\n",
    "manifold_2Da = isomapWheat.transform(xWheatScaled)\n",
    "manifold_2D = pd.DataFrame(manifold_2Da, columns=['Component 1', 'Component 2'])\n",
    "manifold_2D['category'] = yWheat.to_numpy()\n",
    "\n",
    "groups = manifold_2D.groupby('category')\n",
    "plt.title('2D Isomap Graph')\n",
    "for name, group in groups:\n",
    "    plt.plot(group['Component 1'], group['Component 2'], marker='o', linestyle='', markersize=5, label=name)\n",
    "plt.legend()\n",
    "\n",
    "# Left with 2 dimensions\n",
    "manifold_2D.head()\n",
    "\n",
    "\"\"\" t-SNE \"\"\"\n",
    "\n",
    "time_start = time.time()\n",
    "tsneWheat = TSNE(n_components=2, verbose=1, perplexity=40, n_iter=300)\n",
    "tsneWheatResults = tsneWheat.fit_transform(xWheatScaled)\n",
    "\n",
    "print('t-SNE done! Time elapsed: {} seconds'.format(time.time()-time_start))\n",
    "\n",
    "subsetWheatTSNE = pd.DataFrame(yWheat)\n",
    "subsetWheatTSNE['tsne-2d-one'] = tsneWheatResults[:,0]\n",
    "subsetWheatTSNE['tsne-2d-two'] = tsneWheatResults[:,1]\n",
    "\n",
    "plt.figure(figsize=(16,10))\n",
    "sns.scatterplot(\n",
    "    x=\"tsne-2d-one\", y=\"tsne-2d-two\",\n",
    "    hue=\"category\",\n",
    "    palette=sns.color_palette(\"hls\", 15),\n",
    "    data=subsetWheatTSNE,\n",
    "    legend=\"full\",\n",
    "    alpha=0.8\n",
    ")\n",
    "\n",
    "\"\"\" UMAP \"\"\"\n",
    "\n",
    "umap_2d = UMAP(n_components=2, init='random', random_state=0)\n",
    "umap_3d = UMAP(n_components=3, init='random', random_state=0)\n",
    "\n",
    "proj_2d = umap_2d.fit_transform(xWheat)\n",
    "\n",
    "umapProj2D = pd.DataFrame(proj_2d, columns=['Component 1', 'Component 2'])\n",
    "umapProj2D['category'] = yWheat.to_numpy()\n",
    "\n",
    "groups = umapProj2D.groupby('category')\n",
    "plt.title('2D Unamp Graph')\n",
    "for name, group in groups:\n",
    "    plt.plot(group['Component 1'], group['Component 2'], marker='o', linestyle='', markersize=5, label=name)\n",
    "plt.legend()\n",
    "\n",
    "proj_3d = umap_3d.fit_transform(xWheat)\n",
    "umapProj3D = pd.DataFrame(proj_3d, columns=['Component 1', 'Component 2', 'Component 3'])\n",
    "umapProj3D['category'] = yWheat.to_numpy()\n",
    "\n",
    "# axes instance\n",
    "fig = plt.figure(figsize=(10, 6))\n",
    "ax = Axes3D(fig, auto_add_to_figure=False)\n",
    "fig.add_axes(ax)\n",
    "\n",
    "# find all the unique labels in the 'name' column\n",
    "labels = np.unique(umapProj3D['category'])\n",
    "# get palette from seaborn\n",
    "palette = sns.color_palette(\"husl\", len(labels))\n",
    "\n",
    "# plot\n",
    "for label, color in zip(labels, palette):\n",
    "    df1 = umapProj3D[umapProj3D['category'] == label]\n",
    "    ax.scatter(df1['Component 1'], df1['Component 2'], df1['Component 3'],\n",
    "               s=40, marker='o', color=color, alpha=1, label=label)\n",
    "ax.set_xlabel('Component 1')\n",
    "ax.set_ylabel('Component 2')\n",
    "ax.set_zlabel('Component 3')\n",
    "\n",
    "# legend\n",
    "plt.legend(bbox_to_anchor=(1.05, 1), loc=2)\n",
    "plt.show()"
   ]
  }
 ],
 "metadata": {
  "kernelspec": {
   "display_name": "Python 3",
   "language": "python",
   "name": "python3"
  },
  "language_info": {
   "codemirror_mode": {
    "name": "ipython",
    "version": 3
   },
   "file_extension": ".py",
   "mimetype": "text/x-python",
   "name": "python",
   "nbconvert_exporter": "python",
   "pygments_lexer": "ipython3",
   "version": "3.10.11"
  }
 },
 "nbformat": 4,
 "nbformat_minor": 2
}
